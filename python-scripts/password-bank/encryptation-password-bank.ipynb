{
 "cells": [
  {
   "cell_type": "markdown",
   "metadata": {},
   "source": [
    "# File encryption via Fernet and RSA"
   ]
  },
  {
   "cell_type": "code",
   "execution_count": 58,
   "metadata": {},
   "outputs": [],
   "source": [
    "from cryptography.fernet import Fernet\n",
    "import rsa"
   ]
  },
  {
   "cell_type": "markdown",
   "metadata": {},
   "source": [
    "### Helper functions definition"
   ]
  },
  {
   "cell_type": "code",
   "execution_count": 59,
   "metadata": {},
   "outputs": [],
   "source": [
    "file_password_secrets = './secrets/pwd.json'"
   ]
  },
  {
   "cell_type": "code",
   "execution_count": 60,
   "metadata": {},
   "outputs": [],
   "source": [
    "def generate_primary_key():\n",
    "    \"\"\"\n",
    "        Generates the key that is used to encrypt the file\n",
    "    \"\"\"\n",
    "    key = Fernet.generate_key()\n",
    "    return key"
   ]
  },
  {
   "cell_type": "code",
   "execution_count": 61,
   "metadata": {},
   "outputs": [],
   "source": [
    "def load_secondary_key():\n",
    "    \"\"\"\n",
    "    Loads the key from the current directory named `key.key` (ciphered primary_key )\n",
    "    \"\"\"\n",
    "    return open(\"./keys/secondary_key.key\", \"rb\").read()"
   ]
  },
  {
   "cell_type": "code",
   "execution_count": 62,
   "metadata": {},
   "outputs": [],
   "source": [
    "def load_pem_key(type_key):\n",
    "    \"\"\"\n",
    "    Loads the key .pem\n",
    "    \"\"\"\n",
    "    key_file = './keys/public_key.pem'\n",
    "    key_type = rsa.PublicKey\n",
    "    if type_key != 'public':\n",
    "        key_file = './keys/private_key.pem'\n",
    "        key_type = rsa.PrivateKey\n",
    "    \n",
    "    \n",
    "    with open(key_file, mode='rb') as key_file:\n",
    "        key_data = key_file.read()\n",
    "    \n",
    "    key = key_type.load_pkcs1(key_data)\n",
    "    return key"
   ]
  },
  {
   "cell_type": "code",
   "execution_count": 63,
   "metadata": {},
   "outputs": [],
   "source": [
    "def encrypt_password_bank(filename, primary_key):\n",
    "    \"\"\"\n",
    "    Encrypt file from dir ./secrets\n",
    "    \"\"\"\n",
    "    f = Fernet(primary_key)\n",
    "    with open(filename, \"rb\") as file:\n",
    "    # read all file data\n",
    "        file_data = file.read()\n",
    "    encrypted_data = f.encrypt(file_data)\n",
    "\n",
    "        # write the encrypted file\n",
    "    with open(filename, \"wb\") as file:\n",
    "        file.write(encrypted_data)"
   ]
  },
  {
   "cell_type": "code",
   "execution_count": 64,
   "metadata": {},
   "outputs": [],
   "source": [
    "def decrypt_password_bank(filename, primary_key):\n",
    "    \"\"\"\n",
    "    Dencrypt file from dir ./secrets\n",
    "    \"\"\"\n",
    "    f = Fernet(primary_key)\n",
    "    with open(filename, \"rb\") as file:\n",
    "        # read the encrypted data\n",
    "        encrypted_data = file.read()\n",
    "    # decrypt data\n",
    "    decrypted_data = f.decrypt(encrypted_data)\n",
    "    # write the original file\n",
    "    with open(filename, \"wb\") as file:\n",
    "        file.write(decrypted_data)"
   ]
  },
  {
   "cell_type": "code",
   "execution_count": 65,
   "metadata": {},
   "outputs": [],
   "source": [
    "def save_rsa_pem_keys(public_key, private_key):\n",
    "    \"\"\"\n",
    "    Generates public and private key.pm and saved them into dir ./keys\n",
    "    \"\"\"\n",
    "    public_key_path = './keys/public_key.pem'\n",
    "    private_key_path = './keys/private_key.pem'\n",
    "\n",
    "    # write the original file\n",
    "    with open(public_key_path, \"wb\") as file:\n",
    "        file.write(public_key)\n",
    "    \n",
    "    with open(private_key_path, \"wb\") as file:\n",
    "        file.write(private_key)"
   ]
  },
  {
   "cell_type": "code",
   "execution_count": 66,
   "metadata": {},
   "outputs": [],
   "source": [
    "def generate_secondary_key(primary_key:bytes):\n",
    "    \"\"\" Ciphers the primary key via RSA \"\"\"\n",
    "    (public_key,private_key) = rsa.newkeys(1024)\n",
    "    save_rsa_pem_keys(\n",
    "        public_key=public_key.save_pkcs1(), \n",
    "        private_key=private_key.save_pkcs1()\n",
    "    )\n",
    "    secondary_key = rsa.encrypt(primary_key, public_key)\n",
    "    with open('./keys/secondary_key.key','wb') as key_file:\n",
    "        key_file.write(secondary_key)"
   ]
  },
  {
   "cell_type": "markdown",
   "metadata": {},
   "source": [
    "### Generate primary key\n",
    "\n",
    "`Primary key` is used to encrypt the file"
   ]
  },
  {
   "cell_type": "code",
   "execution_count": 67,
   "metadata": {},
   "outputs": [],
   "source": [
    "primary_key = generate_primary_key()"
   ]
  },
  {
   "cell_type": "markdown",
   "metadata": {},
   "source": [
    "### Encrypt the file using the primary key"
   ]
  },
  {
   "cell_type": "code",
   "execution_count": 73,
   "metadata": {},
   "outputs": [],
   "source": [
    "encrypt_password_bank(filename=file_password_secrets, primary_key=primary_key)"
   ]
  },
  {
   "cell_type": "markdown",
   "metadata": {},
   "source": [
    "### Cipher primary key (PK) via RSA\n",
    "\n",
    "- This creates both pair of keys (public and private) and they both got saved into keys directory\n",
    "- `Private key .pem `needs to be saved in a secure place, because of `PK is used to decrypt your data`. That's why this key was added within `.gitignore `"
   ]
  },
  {
   "cell_type": "code",
   "execution_count": 69,
   "metadata": {},
   "outputs": [],
   "source": [
    "generate_secondary_key(primary_key=primary_key)"
   ]
  },
  {
   "cell_type": "markdown",
   "metadata": {},
   "source": [
    "### Decrypt data\n",
    "\n",
    "To decrypt data `private key .pem` needs to be added into `keys directory` in order to decrypt the primary key and use it for decrypt the file."
   ]
  },
  {
   "cell_type": "code",
   "execution_count": 70,
   "metadata": {},
   "outputs": [],
   "source": [
    "sk = load_secondary_key()\n",
    "privateKey = load_pem_key('private')\n",
    "pk = rsa.decrypt(sk, privateKey)"
   ]
  },
  {
   "cell_type": "code",
   "execution_count": 72,
   "metadata": {},
   "outputs": [],
   "source": [
    "decrypt_password_bank(filename=file_password_secrets, primary_key=pk)"
   ]
  }
 ],
 "metadata": {
  "kernelspec": {
   "display_name": "base",
   "language": "python",
   "name": "python3"
  },
  "language_info": {
   "codemirror_mode": {
    "name": "ipython",
    "version": 3
   },
   "file_extension": ".py",
   "mimetype": "text/x-python",
   "name": "python",
   "nbconvert_exporter": "python",
   "pygments_lexer": "ipython3",
   "version": "3.11.5"
  }
 },
 "nbformat": 4,
 "nbformat_minor": 2
}
