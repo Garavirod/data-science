{
 "cells": [
  {
   "cell_type": "markdown",
   "metadata": {},
   "source": [
    "# Data model and Warehousing\n",
    "\n",
    "### What’s data model?\n",
    "\n",
    "Its an abstract representation about how data is organized and renationalized \n",
    "\n",
    "### ACID\n",
    "\n",
    "Atomicity - Treat every transaction as a single operation\n",
    "Consistency - Data does not suffer changes from start to end transaction, its always consistent\n",
    "Isolation - Any reads or writes should not affect separate transactions, even when they occur simultaneously\n",
    "Durability - Once transaction is done, the data must persist\n",
    "\n",
    "### Relational model\n",
    "\n",
    "Organize data through table, row columns and primary key, and foreign keys that links tables \n",
    "\n",
    "### Adventages of using ralational databases\n",
    "\n",
    "- JOINS availability\n",
    "- Smaller data volumes\n",
    "- Flexibility of queries\n",
    "- ACID (Allows data integrity)\n",
    "\n",
    "\n",
    "### What’s data warehouse?\n",
    "\n",
    "It’s a unified repository for all data that is collected from all the different company sources\n",
    "\n",
    "\n",
    "### Data In and Data out\n",
    "\n",
    "- Data in (Operational process)\n",
    "    - OLTP (Online Transactional processing)\n",
    "- Data out (Analytical process)\n",
    "    - OLAP (Online Analytical processing)\n",
    "\n",
    "### PostgreSQL Rental model\n",
    "\n",
    "\n",
    "<img src='https://www.postgresqltutorial.com/wp-content/uploads/2018/03/dvd-rental-sample-database-diagram.png'>\n"
   ]
  }
 ],
 "metadata": {
  "language_info": {
   "name": "python"
  }
 },
 "nbformat": 4,
 "nbformat_minor": 2
}
