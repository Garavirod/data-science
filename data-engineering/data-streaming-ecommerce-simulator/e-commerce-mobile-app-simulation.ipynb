{
 "cells": [
  {
   "cell_type": "code",
   "execution_count": 31,
   "metadata": {},
   "outputs": [],
   "source": [
    "import pandas as pd\n",
    "import json\n",
    "import random\n",
    "import time\n",
    "import hashlib\n",
    "import os\n",
    "import uuid"
   ]
  },
  {
   "cell_type": "code",
   "execution_count": 32,
   "metadata": {},
   "outputs": [],
   "source": [
    "CITIES = [\n",
    "    'Ciudad de México',\n",
    "    'Guadalajara',\n",
    "    'Queretaro',\n",
    "    'Monterrey',\n",
    "    'Puebla'\n",
    "]\n",
    "\n",
    "PAYMENT_ONLINE = ['Debit', 'Credit']\n",
    "\n",
    "OS_DEVICE = ['WEB','ANDROID', 'IOS']\n",
    "\n",
    "INITIAL_EVENT_FLOW = 'LAUNCH_APP'\n",
    "SECOND_EVENT_FLOW = ['HOME','EXIT_APP','HOME','HOME']\n",
    "THIRD_EVENT_FLOW = ['GO_TO_CATEGORY','GO_TO_CATEGORY','GO_TO_CATEGORY','EXIT_APP']\n",
    "EVENT_CATEGORY_FLOW= ['LIQUOR','PHARMACY','TECHNOLOGY','ELECTRO_DOMESTIC','BABY','CLOTHES']\n",
    "FINAL_EVENT_FLOW = ['PURCHASE','PURCHASE','PURCHASE','EXIT_APP','EXIT_APP','PURCHASE']\n",
    "\n",
    "\n",
    "STORE_COORDS_BY_CITY = {\n",
    "    'Ciudad de México':(19.372879, -99.049378),\n",
    "    'Guadalajara':(20.690072, -103.301842),\n",
    "    'Queretaro':(20.606305, -100.412364),\n",
    "    'Monterrey':(25.713272, -100.277447),\n",
    "    'Puebla':(18.973534, -98.252895),\n",
    "    \n",
    "}"
   ]
  },
  {
   "cell_type": "markdown",
   "metadata": {},
   "source": [
    "#### Simulate user app interaction"
   ]
  },
  {
   "cell_type": "code",
   "execution_count": 33,
   "metadata": {},
   "outputs": [],
   "source": [
    "def simulate_event_user_app():\n",
    "    simulation = {\n",
    "        'payment' : random.choice(PAYMENT_ONLINE),\n",
    "        'os_device' : random.choice(OS_DEVICE),\n",
    "        'city' : random.choice(CITIES),\n",
    "        'status' : 'UNCONVERTED',\n",
    "        'order_type' : 'USER_VISIT',\n",
    "        'event_1': INITIAL_EVENT_FLOW,\n",
    "        'event_2': random.choice(SECOND_EVENT_FLOW),\n",
    "        'event_3': random.choice(THIRD_EVENT_FLOW),\n",
    "        'last_event': None\n",
    "\n",
    "    }\n",
    "\n",
    "    if simulation['event_2'] == 'HOME':\n",
    "        if simulation['event_3'] == 'GO_TO_CATEGORY':\n",
    "            simulation['last_event'] = random.choice(EVENT_CATEGORY_FLOW)\n",
    "            final_event = random.choice(FINAL_EVENT_FLOW)\n",
    "            if final_event == 'PURCHASE':\n",
    "                simulation['status'] = 'COMPLETED'\n",
    "                simulation['order_type'] = 'PURCHASE'\n",
    "            else:\n",
    "                simulation['payment'] = None\n",
    "                simulation['last_event'] = 'HOME'\n",
    "        else:\n",
    "           simulation['payment'] = None\n",
    "           simulation['last_event'] = 'HOME'\n",
    "    else:\n",
    "        simulation['payment'] = None\n",
    "        simulation['last_event'] = 'LAUNCH_APP'\n",
    "        simulation['event_3'] = None\n",
    "\n",
    "    return simulation\n",
    "\n",
    "def get_store_location(city:str):\n",
    "    return STORE_COORDS_BY_CITY[city]\n",
    "\n",
    "\n",
    "def create_users_bank(num_users):\n",
    "    users = []\n",
    "    for i in range(num_users):\n",
    "        user = {\n",
    "            'created_at' : pd.to_datetime('today').strftime('%Y-%m-%d %H:%M:%S'),\n",
    "            'user_id' :  str(uuid.uuid4())\n",
    "        }\n",
    "        users.append(user)\n",
    "    return users"
   ]
  },
  {
   "cell_type": "code",
   "execution_count": 34,
   "metadata": {},
   "outputs": [
    {
     "data": {
      "text/plain": [
       "{'payment': 'Credit',\n",
       " 'os_device': 'WEB',\n",
       " 'city': 'Guadalajara',\n",
       " 'status': 'COMPLETED',\n",
       " 'order_type': 'PURCHASE',\n",
       " 'event_1': 'LAUNCH_APP',\n",
       " 'event_2': 'HOME',\n",
       " 'event_3': 'GO_TO_CATEGORY',\n",
       " 'last_event': 'PHARMACY'}"
      ]
     },
     "execution_count": 34,
     "metadata": {},
     "output_type": "execute_result"
    }
   ],
   "source": [
    "user_random_interaction = simulate_event_user_app()\n",
    "user_random_interaction"
   ]
  },
  {
   "cell_type": "code",
   "execution_count": 35,
   "metadata": {},
   "outputs": [
    {
     "data": {
      "text/plain": [
       "[{'created_at': '2024-01-17 16:10:47',\n",
       "  'user_id': '45635ca9-7026-401a-91ef-e59eef0f1c97'},\n",
       " {'created_at': '2024-01-17 16:10:47',\n",
       "  'user_id': 'e969f136-c1a8-41c3-b335-2da7dba3e6b8'},\n",
       " {'created_at': '2024-01-17 16:10:47',\n",
       "  'user_id': '1ca5b4a0-3933-4cf4-bcac-8fde1b1c22b6'},\n",
       " {'created_at': '2024-01-17 16:10:47',\n",
       "  'user_id': '70df12be-441b-48bd-8ea7-344aed7b0e59'},\n",
       " {'created_at': '2024-01-17 16:10:47',\n",
       "  'user_id': '93ca45ab-bf2f-48a2-af66-f0530724bcf6'},\n",
       " {'created_at': '2024-01-17 16:10:47',\n",
       "  'user_id': 'e3e3ef2e-157e-49b0-9a62-cd075f093f32'},\n",
       " {'created_at': '2024-01-17 16:10:47',\n",
       "  'user_id': '92ad92de-abcf-49cf-a8c3-0316a07279e3'},\n",
       " {'created_at': '2024-01-17 16:10:47',\n",
       "  'user_id': 'beb52a57-7a56-4b1f-9d91-682bceb06b26'},\n",
       " {'created_at': '2024-01-17 16:10:47',\n",
       "  'user_id': 'b8cedb53-1ff5-447e-aded-fc911aed21c3'},\n",
       " {'created_at': '2024-01-17 16:10:47',\n",
       "  'user_id': '85c38223-0911-4388-b582-a5a5153f42d7'}]"
      ]
     },
     "execution_count": 35,
     "metadata": {},
     "output_type": "execute_result"
    }
   ],
   "source": [
    "users = create_users_bank(1000)\n",
    "users[:10]"
   ]
  },
  {
   "cell_type": "code",
   "execution_count": 36,
   "metadata": {},
   "outputs": [],
   "source": [
    "USERS = create_users_bank(1000)"
   ]
  },
  {
   "cell_type": "code",
   "execution_count": 37,
   "metadata": {},
   "outputs": [],
   "source": [
    "def get_users_simulation_app(num_simulations:int):\n",
    "    x = 0\n",
    "    purchases_simulation = []\n",
    "    while x < num_simulations:\n",
    "        date = pd.to_datetime('today').strftime('%Y-%m-%d %H:%M:%S')\n",
    "        user_simulation = simulate_event_user_app()\n",
    "        user_id = random.choice(USERS)['user_id']\n",
    "        purchase = {\n",
    "            'user_id':user_id,\n",
    "            'created_at':date,\n",
    "            'payment_method' : user_simulation['payment'],\n",
    "            'os_device' : user_simulation['os_device'],\n",
    "            'city' : user_simulation['city'],\n",
    "            'latitude': STORE_COORDS_BY_CITY[user_simulation['city']][0],\n",
    "            'longitude': STORE_COORDS_BY_CITY[user_simulation['city']][1],\n",
    "            'status' : user_simulation['status'],\n",
    "            'order_type' : user_simulation['order_type'],\n",
    "            'event_1': user_simulation['event_1'],\n",
    "            'event_2': user_simulation['event_2'],\n",
    "            'event_3': user_simulation['event_3'],\n",
    "            'last_event': user_simulation['last_event'],\n",
    "        }\n",
    "        purchases_simulation.append(pd.DataFrame(purchase,index=[x]))\n",
    "        x += 1\n",
    "        time.sleep(random.choice([1,1,5,2]))\n",
    "    return purchases_simulation"
   ]
  },
  {
   "cell_type": "code",
   "execution_count": 38,
   "metadata": {},
   "outputs": [
    {
     "data": {
      "text/html": [
       "<div>\n",
       "<style scoped>\n",
       "    .dataframe tbody tr th:only-of-type {\n",
       "        vertical-align: middle;\n",
       "    }\n",
       "\n",
       "    .dataframe tbody tr th {\n",
       "        vertical-align: top;\n",
       "    }\n",
       "\n",
       "    .dataframe thead th {\n",
       "        text-align: right;\n",
       "    }\n",
       "</style>\n",
       "<table border=\"1\" class=\"dataframe\">\n",
       "  <thead>\n",
       "    <tr style=\"text-align: right;\">\n",
       "      <th></th>\n",
       "      <th>user_id</th>\n",
       "      <th>created_at</th>\n",
       "      <th>payment_method</th>\n",
       "      <th>os_device</th>\n",
       "      <th>city</th>\n",
       "      <th>latitude</th>\n",
       "      <th>longitude</th>\n",
       "      <th>status</th>\n",
       "      <th>order_type</th>\n",
       "      <th>event_1</th>\n",
       "      <th>event_2</th>\n",
       "      <th>event_3</th>\n",
       "      <th>last_event</th>\n",
       "    </tr>\n",
       "  </thead>\n",
       "  <tbody>\n",
       "    <tr>\n",
       "      <th>0</th>\n",
       "      <td>34216542-2e22-4dc6-a078-f6c8856bd4f4</td>\n",
       "      <td>2024-01-17 16:10:47</td>\n",
       "      <td>Debit</td>\n",
       "      <td>IOS</td>\n",
       "      <td>Queretaro</td>\n",
       "      <td>20.606305</td>\n",
       "      <td>-100.412364</td>\n",
       "      <td>COMPLETED</td>\n",
       "      <td>PURCHASE</td>\n",
       "      <td>LAUNCH_APP</td>\n",
       "      <td>HOME</td>\n",
       "      <td>GO_TO_CATEGORY</td>\n",
       "      <td>LIQUOR</td>\n",
       "    </tr>\n",
       "    <tr>\n",
       "      <th>1</th>\n",
       "      <td>e49e4eff-b092-465c-919d-f304399b2826</td>\n",
       "      <td>2024-01-17 16:10:48</td>\n",
       "      <td>None</td>\n",
       "      <td>IOS</td>\n",
       "      <td>Puebla</td>\n",
       "      <td>18.973534</td>\n",
       "      <td>-98.252895</td>\n",
       "      <td>UNCONVERTED</td>\n",
       "      <td>USER_VISIT</td>\n",
       "      <td>LAUNCH_APP</td>\n",
       "      <td>EXIT_APP</td>\n",
       "      <td>None</td>\n",
       "      <td>LAUNCH_APP</td>\n",
       "    </tr>\n",
       "    <tr>\n",
       "      <th>2</th>\n",
       "      <td>dced38c3-2a80-450b-aaec-b9e62caabf15</td>\n",
       "      <td>2024-01-17 16:10:49</td>\n",
       "      <td>Credit</td>\n",
       "      <td>IOS</td>\n",
       "      <td>Monterrey</td>\n",
       "      <td>25.713272</td>\n",
       "      <td>-100.277447</td>\n",
       "      <td>COMPLETED</td>\n",
       "      <td>PURCHASE</td>\n",
       "      <td>LAUNCH_APP</td>\n",
       "      <td>HOME</td>\n",
       "      <td>GO_TO_CATEGORY</td>\n",
       "      <td>ELECTRO_DOMESTIC</td>\n",
       "    </tr>\n",
       "    <tr>\n",
       "      <th>3</th>\n",
       "      <td>b928cb62-9be6-49e3-a03d-50b97e005353</td>\n",
       "      <td>2024-01-17 16:10:54</td>\n",
       "      <td>Credit</td>\n",
       "      <td>IOS</td>\n",
       "      <td>Queretaro</td>\n",
       "      <td>20.606305</td>\n",
       "      <td>-100.412364</td>\n",
       "      <td>COMPLETED</td>\n",
       "      <td>PURCHASE</td>\n",
       "      <td>LAUNCH_APP</td>\n",
       "      <td>HOME</td>\n",
       "      <td>GO_TO_CATEGORY</td>\n",
       "      <td>CLOTHES</td>\n",
       "    </tr>\n",
       "    <tr>\n",
       "      <th>4</th>\n",
       "      <td>93b15981-53dd-4abb-8953-9c716c97b956</td>\n",
       "      <td>2024-01-17 16:10:55</td>\n",
       "      <td>None</td>\n",
       "      <td>IOS</td>\n",
       "      <td>Monterrey</td>\n",
       "      <td>25.713272</td>\n",
       "      <td>-100.277447</td>\n",
       "      <td>UNCONVERTED</td>\n",
       "      <td>USER_VISIT</td>\n",
       "      <td>LAUNCH_APP</td>\n",
       "      <td>EXIT_APP</td>\n",
       "      <td>None</td>\n",
       "      <td>LAUNCH_APP</td>\n",
       "    </tr>\n",
       "    <tr>\n",
       "      <th>5</th>\n",
       "      <td>fd677c0d-d56c-4865-8b20-a0b127092547</td>\n",
       "      <td>2024-01-17 16:10:56</td>\n",
       "      <td>None</td>\n",
       "      <td>IOS</td>\n",
       "      <td>Guadalajara</td>\n",
       "      <td>20.690072</td>\n",
       "      <td>-103.301842</td>\n",
       "      <td>UNCONVERTED</td>\n",
       "      <td>USER_VISIT</td>\n",
       "      <td>LAUNCH_APP</td>\n",
       "      <td>EXIT_APP</td>\n",
       "      <td>None</td>\n",
       "      <td>LAUNCH_APP</td>\n",
       "    </tr>\n",
       "    <tr>\n",
       "      <th>6</th>\n",
       "      <td>09d7a734-20ec-4ddf-84b9-e4afa9f8c373</td>\n",
       "      <td>2024-01-17 16:11:01</td>\n",
       "      <td>None</td>\n",
       "      <td>WEB</td>\n",
       "      <td>Ciudad de México</td>\n",
       "      <td>19.372879</td>\n",
       "      <td>-99.049378</td>\n",
       "      <td>UNCONVERTED</td>\n",
       "      <td>USER_VISIT</td>\n",
       "      <td>LAUNCH_APP</td>\n",
       "      <td>HOME</td>\n",
       "      <td>EXIT_APP</td>\n",
       "      <td>HOME</td>\n",
       "    </tr>\n",
       "    <tr>\n",
       "      <th>7</th>\n",
       "      <td>39de6411-0feb-431e-9968-0f5478076ca4</td>\n",
       "      <td>2024-01-17 16:11:03</td>\n",
       "      <td>Debit</td>\n",
       "      <td>WEB</td>\n",
       "      <td>Ciudad de México</td>\n",
       "      <td>19.372879</td>\n",
       "      <td>-99.049378</td>\n",
       "      <td>COMPLETED</td>\n",
       "      <td>PURCHASE</td>\n",
       "      <td>LAUNCH_APP</td>\n",
       "      <td>HOME</td>\n",
       "      <td>GO_TO_CATEGORY</td>\n",
       "      <td>CLOTHES</td>\n",
       "    </tr>\n",
       "    <tr>\n",
       "      <th>8</th>\n",
       "      <td>39de6411-0feb-431e-9968-0f5478076ca4</td>\n",
       "      <td>2024-01-17 16:11:04</td>\n",
       "      <td>None</td>\n",
       "      <td>WEB</td>\n",
       "      <td>Guadalajara</td>\n",
       "      <td>20.690072</td>\n",
       "      <td>-103.301842</td>\n",
       "      <td>UNCONVERTED</td>\n",
       "      <td>USER_VISIT</td>\n",
       "      <td>LAUNCH_APP</td>\n",
       "      <td>HOME</td>\n",
       "      <td>GO_TO_CATEGORY</td>\n",
       "      <td>HOME</td>\n",
       "    </tr>\n",
       "    <tr>\n",
       "      <th>9</th>\n",
       "      <td>60010386-8f49-47bb-a59f-f0c545476782</td>\n",
       "      <td>2024-01-17 16:11:06</td>\n",
       "      <td>None</td>\n",
       "      <td>ANDROID</td>\n",
       "      <td>Puebla</td>\n",
       "      <td>18.973534</td>\n",
       "      <td>-98.252895</td>\n",
       "      <td>UNCONVERTED</td>\n",
       "      <td>USER_VISIT</td>\n",
       "      <td>LAUNCH_APP</td>\n",
       "      <td>HOME</td>\n",
       "      <td>GO_TO_CATEGORY</td>\n",
       "      <td>HOME</td>\n",
       "    </tr>\n",
       "  </tbody>\n",
       "</table>\n",
       "</div>"
      ],
      "text/plain": [
       "                                user_id           created_at payment_method  \\\n",
       "0  34216542-2e22-4dc6-a078-f6c8856bd4f4  2024-01-17 16:10:47          Debit   \n",
       "1  e49e4eff-b092-465c-919d-f304399b2826  2024-01-17 16:10:48           None   \n",
       "2  dced38c3-2a80-450b-aaec-b9e62caabf15  2024-01-17 16:10:49         Credit   \n",
       "3  b928cb62-9be6-49e3-a03d-50b97e005353  2024-01-17 16:10:54         Credit   \n",
       "4  93b15981-53dd-4abb-8953-9c716c97b956  2024-01-17 16:10:55           None   \n",
       "5  fd677c0d-d56c-4865-8b20-a0b127092547  2024-01-17 16:10:56           None   \n",
       "6  09d7a734-20ec-4ddf-84b9-e4afa9f8c373  2024-01-17 16:11:01           None   \n",
       "7  39de6411-0feb-431e-9968-0f5478076ca4  2024-01-17 16:11:03          Debit   \n",
       "8  39de6411-0feb-431e-9968-0f5478076ca4  2024-01-17 16:11:04           None   \n",
       "9  60010386-8f49-47bb-a59f-f0c545476782  2024-01-17 16:11:06           None   \n",
       "\n",
       "  os_device              city   latitude   longitude       status  order_type  \\\n",
       "0       IOS         Queretaro  20.606305 -100.412364    COMPLETED    PURCHASE   \n",
       "1       IOS            Puebla  18.973534  -98.252895  UNCONVERTED  USER_VISIT   \n",
       "2       IOS         Monterrey  25.713272 -100.277447    COMPLETED    PURCHASE   \n",
       "3       IOS         Queretaro  20.606305 -100.412364    COMPLETED    PURCHASE   \n",
       "4       IOS         Monterrey  25.713272 -100.277447  UNCONVERTED  USER_VISIT   \n",
       "5       IOS       Guadalajara  20.690072 -103.301842  UNCONVERTED  USER_VISIT   \n",
       "6       WEB  Ciudad de México  19.372879  -99.049378  UNCONVERTED  USER_VISIT   \n",
       "7       WEB  Ciudad de México  19.372879  -99.049378    COMPLETED    PURCHASE   \n",
       "8       WEB       Guadalajara  20.690072 -103.301842  UNCONVERTED  USER_VISIT   \n",
       "9   ANDROID            Puebla  18.973534  -98.252895  UNCONVERTED  USER_VISIT   \n",
       "\n",
       "      event_1   event_2         event_3        last_event  \n",
       "0  LAUNCH_APP      HOME  GO_TO_CATEGORY            LIQUOR  \n",
       "1  LAUNCH_APP  EXIT_APP            None        LAUNCH_APP  \n",
       "2  LAUNCH_APP      HOME  GO_TO_CATEGORY  ELECTRO_DOMESTIC  \n",
       "3  LAUNCH_APP      HOME  GO_TO_CATEGORY           CLOTHES  \n",
       "4  LAUNCH_APP  EXIT_APP            None        LAUNCH_APP  \n",
       "5  LAUNCH_APP  EXIT_APP            None        LAUNCH_APP  \n",
       "6  LAUNCH_APP      HOME        EXIT_APP              HOME  \n",
       "7  LAUNCH_APP      HOME  GO_TO_CATEGORY           CLOTHES  \n",
       "8  LAUNCH_APP      HOME  GO_TO_CATEGORY              HOME  \n",
       "9  LAUNCH_APP      HOME  GO_TO_CATEGORY              HOME  "
      ]
     },
     "execution_count": 38,
     "metadata": {},
     "output_type": "execute_result"
    }
   ],
   "source": [
    "purchases_simulation = get_users_simulation_app(10)\n",
    "df_purchases_simulation = pd.concat(purchases_simulation, ignore_index=True)\n",
    "df_purchases_simulation"
   ]
  },
  {
   "cell_type": "code",
   "execution_count": 39,
   "metadata": {},
   "outputs": [
    {
     "data": {
      "text/plain": [
       "payment_method\n",
       "Debit     2\n",
       "Credit    2\n",
       "Name: count, dtype: int64"
      ]
     },
     "execution_count": 39,
     "metadata": {},
     "output_type": "execute_result"
    }
   ],
   "source": [
    "df_purchases_simulation['payment_method'].value_counts()"
   ]
  },
  {
   "cell_type": "code",
   "execution_count": 41,
   "metadata": {},
   "outputs": [
    {
     "data": {
      "text/plain": [
       "status\n",
       "UNCONVERTED    6\n",
       "COMPLETED      4\n",
       "Name: count, dtype: int64"
      ]
     },
     "execution_count": 41,
     "metadata": {},
     "output_type": "execute_result"
    }
   ],
   "source": [
    "df_purchases_simulation['status'].value_counts()"
   ]
  },
  {
   "cell_type": "code",
   "execution_count": 43,
   "metadata": {},
   "outputs": [
    {
     "data": {
      "text/plain": [
       "os_device\n",
       "IOS        6\n",
       "WEB        3\n",
       "ANDROID    1\n",
       "Name: count, dtype: int64"
      ]
     },
     "execution_count": 43,
     "metadata": {},
     "output_type": "execute_result"
    }
   ],
   "source": [
    "df_purchases_simulation['os_device'].value_counts()"
   ]
  },
  {
   "cell_type": "code",
   "execution_count": 44,
   "metadata": {},
   "outputs": [
    {
     "data": {
      "text/plain": [
       "city\n",
       "Queretaro           2\n",
       "Puebla              2\n",
       "Monterrey           2\n",
       "Guadalajara         2\n",
       "Ciudad de México    2\n",
       "Name: count, dtype: int64"
      ]
     },
     "execution_count": 44,
     "metadata": {},
     "output_type": "execute_result"
    }
   ],
   "source": [
    "df_purchases_simulation['city'].value_counts()"
   ]
  }
 ],
 "metadata": {
  "kernelspec": {
   "display_name": "base",
   "language": "python",
   "name": "python3"
  },
  "language_info": {
   "codemirror_mode": {
    "name": "ipython",
    "version": 3
   },
   "file_extension": ".py",
   "mimetype": "text/x-python",
   "name": "python",
   "nbconvert_exporter": "python",
   "pygments_lexer": "ipython3",
   "version": "3.11.5"
  }
 },
 "nbformat": 4,
 "nbformat_minor": 2
}
