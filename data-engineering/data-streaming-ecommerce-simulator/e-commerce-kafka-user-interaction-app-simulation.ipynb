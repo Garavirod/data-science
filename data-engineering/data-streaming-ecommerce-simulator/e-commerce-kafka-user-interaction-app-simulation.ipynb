{
 "cells": [
  {
   "cell_type": "markdown",
   "metadata": {},
   "source": [
    "# Kafka streaming\n",
    "\n",
    "Send user’s purchases in real time via kafka\n",
    "\n",
    "1. Create a user app interaction flow simulation\n",
    "2. Authenticate kafka cluster\n",
    "3. Integrate Kafka streaming into the simulation"
   ]
  },
  {
   "cell_type": "code",
   "execution_count": 5,
   "metadata": {},
   "outputs": [],
   "source": [
    "import pandas as pd\n",
    "import json\n",
    "import random\n",
    "import time\n",
    "import hashlib\n",
    "import os\n",
    "import uuid\n",
    "import pandas as pd\n",
    "from dotenv import load_dotenv\n",
    "import requests\n",
    "import os\n",
    "from kafka import KafkaProducer\n",
    "from confluent_kafka import Producer\n",
    "import socket\n",
    "import json"
   ]
  },
  {
   "cell_type": "markdown",
   "metadata": {},
   "source": [
    "#### simulate user interaction app"
   ]
  },
  {
   "cell_type": "code",
   "execution_count": 6,
   "metadata": {},
   "outputs": [],
   "source": [
    "CITIES = [\n",
    "    'Ciudad de México',\n",
    "    'Guadalajara',\n",
    "    'Queretaro',\n",
    "    'Monterrey',\n",
    "    'Puebla'\n",
    "]\n",
    "\n",
    "PAYMENT_ONLINE = ['Debit', 'Credit']\n",
    "\n",
    "OS_DEVICE = ['WEB','ANDROID', 'IOS']\n",
    "\n",
    "INITIAL_EVENT_FLOW = 'LAUNCH_APP'\n",
    "SECOND_EVENT_FLOW = ['HOME','EXIT_APP','HOME','HOME']\n",
    "THIRD_EVENT_FLOW = ['GO_TO_CATEGORY','GO_TO_CATEGORY','GO_TO_CATEGORY','EXIT_APP']\n",
    "EVENT_CATEGORY_FLOW= ['LIQUOR','PHARMACY','TECHNOLOGY','ELECTRO_DOMESTIC','BABY','CLOTHES']\n",
    "FINAL_EVENT_FLOW = ['PURCHASE','PURCHASE','PURCHASE','EXIT_APP','EXIT_APP','PURCHASE']\n",
    "\n",
    "\n",
    "STORE_COORDS_BY_CITY = {\n",
    "    'Ciudad de México':(19.372879, -99.049378),\n",
    "    'Guadalajara':(20.690072, -103.301842),\n",
    "    'Queretaro':(20.606305, -100.412364),\n",
    "    'Monterrey':(25.713272, -100.277447),\n",
    "    'Puebla':(18.973534, -98.252895),\n",
    "    \n",
    "}"
   ]
  },
  {
   "cell_type": "code",
   "execution_count": 7,
   "metadata": {},
   "outputs": [],
   "source": [
    "def simulate_event_user_app():\n",
    "    simulation = {\n",
    "        'payment' : random.choice(PAYMENT_ONLINE),\n",
    "        'os_device' : random.choice(OS_DEVICE),\n",
    "        'city' : random.choice(CITIES),\n",
    "        'status' : 'UNCONVERTED',\n",
    "        'order_type' : 'USER_VISIT',\n",
    "        'event_1': INITIAL_EVENT_FLOW,\n",
    "        'event_2': random.choice(SECOND_EVENT_FLOW),\n",
    "        'event_3': random.choice(THIRD_EVENT_FLOW),\n",
    "        'last_event': None\n",
    "\n",
    "    }\n",
    "\n",
    "    if simulation['event_2'] == 'HOME':\n",
    "        if simulation['event_3'] == 'GO_TO_CATEGORY':\n",
    "            simulation['last_event'] = random.choice(EVENT_CATEGORY_FLOW)\n",
    "            final_event = random.choice(FINAL_EVENT_FLOW)\n",
    "            if final_event == 'PURCHASE':\n",
    "                simulation['status'] = 'COMPLETED'\n",
    "                simulation['order_type'] = 'PURCHASE'\n",
    "            else:\n",
    "                simulation['payment'] = None\n",
    "                simulation['last_event'] = 'HOME'\n",
    "        else:\n",
    "           simulation['payment'] = None\n",
    "           simulation['last_event'] = 'HOME'\n",
    "    else:\n",
    "        simulation['payment'] = None\n",
    "        simulation['last_event'] = 'LAUNCH_APP'\n",
    "        simulation['event_3'] = None\n",
    "\n",
    "    return simulation\n",
    "\n",
    "def get_store_location(city:str):\n",
    "    return STORE_COORDS_BY_CITY[city]\n",
    "\n",
    "\n",
    "def create_users_bank(num_users):\n",
    "    users = []\n",
    "    for i in range(num_users):\n",
    "        user = {\n",
    "            'created_at' : pd.to_datetime('today').strftime('%Y-%m-%d %H:%M:%S'),\n",
    "            'user_id' :  str(uuid.uuid4())\n",
    "        }\n",
    "        users.append(user)\n",
    "    return users"
   ]
  },
  {
   "cell_type": "code",
   "execution_count": 8,
   "metadata": {},
   "outputs": [
    {
     "data": {
      "text/plain": [
       "{'payment': 'Debit',\n",
       " 'os_device': 'IOS',\n",
       " 'city': 'Queretaro',\n",
       " 'status': 'COMPLETED',\n",
       " 'order_type': 'PURCHASE',\n",
       " 'event_1': 'LAUNCH_APP',\n",
       " 'event_2': 'HOME',\n",
       " 'event_3': 'GO_TO_CATEGORY',\n",
       " 'last_event': 'CLOTHES'}"
      ]
     },
     "execution_count": 8,
     "metadata": {},
     "output_type": "execute_result"
    }
   ],
   "source": [
    "user_random_interaction = simulate_event_user_app()\n",
    "user_random_interaction"
   ]
  },
  {
   "cell_type": "code",
   "execution_count": 9,
   "metadata": {},
   "outputs": [
    {
     "data": {
      "text/plain": [
       "[{'created_at': '2024-01-18 14:21:17',\n",
       "  'user_id': '528559cf-ebc9-4b4a-a675-61d36bd72855'},\n",
       " {'created_at': '2024-01-18 14:21:17',\n",
       "  'user_id': 'fbab6e1a-13d9-452d-b31d-15ed51235166'},\n",
       " {'created_at': '2024-01-18 14:21:17',\n",
       "  'user_id': '79b7ddd9-2993-41af-bdb3-26ef73651ac9'},\n",
       " {'created_at': '2024-01-18 14:21:17',\n",
       "  'user_id': 'f4d842d5-e40c-4b04-b727-129f749aa8a3'},\n",
       " {'created_at': '2024-01-18 14:21:17',\n",
       "  'user_id': '36066089-ee87-4048-80db-3cb901866d37'},\n",
       " {'created_at': '2024-01-18 14:21:17',\n",
       "  'user_id': '5ccecd3d-485f-4b2b-819f-f757d7200ed8'},\n",
       " {'created_at': '2024-01-18 14:21:17',\n",
       "  'user_id': 'a9f72901-47e2-4e6f-a674-0ba4424987e6'},\n",
       " {'created_at': '2024-01-18 14:21:17',\n",
       "  'user_id': '1147704c-7b20-428f-b024-0dcc4d6ef0b4'},\n",
       " {'created_at': '2024-01-18 14:21:17',\n",
       "  'user_id': '14ecf889-3f70-407f-a306-dadd621749f4'},\n",
       " {'created_at': '2024-01-18 14:21:17',\n",
       "  'user_id': '21fdf2e9-efe8-4680-ad72-ba788b0e077c'}]"
      ]
     },
     "execution_count": 9,
     "metadata": {},
     "output_type": "execute_result"
    }
   ],
   "source": [
    "users = create_users_bank(1000)\n",
    "users[:10]"
   ]
  },
  {
   "cell_type": "code",
   "execution_count": 10,
   "metadata": {},
   "outputs": [],
   "source": [
    "USERS = create_users_bank(1000)"
   ]
  },
  {
   "cell_type": "markdown",
   "metadata": {},
   "source": [
    "#### Kafka cluster authentication"
   ]
  },
  {
   "cell_type": "code",
   "execution_count": 11,
   "metadata": {},
   "outputs": [],
   "source": [
    "load_dotenv()\n",
    "KAFKA_AUTH = {\n",
    "    'bootstrap.servers': os.getenv('CONFLUENT_BOOTSTRAP_SERVER'),\n",
    "    'security.protocol': 'SASL_SSL',\n",
    "    'sasl.mechanism': 'PLAIN',\n",
    "    'sasl.username': os.getenv('CONFLUENT_API_KEY'),\n",
    "    'sasl.password': os.getenv('CONFLUENT_API_SECRET'),\n",
    "}"
   ]
  },
  {
   "cell_type": "code",
   "execution_count": 12,
   "metadata": {},
   "outputs": [],
   "source": [
    "kafka_producer = Producer(KAFKA_AUTH)"
   ]
  },
  {
   "cell_type": "markdown",
   "metadata": {},
   "source": [
    "#### Send data messages to kafka topic"
   ]
  },
  {
   "cell_type": "code",
   "execution_count": 13,
   "metadata": {},
   "outputs": [],
   "source": [
    "def get_users_simulation_app(num_simulations:int, kafka_topic:str):\n",
    "    delivered_records = 0\n",
    "    x = 0\n",
    "    while x < num_simulations:\n",
    "        date = pd.to_datetime('today').strftime('%Y-%m-%d %H:%M:%S')\n",
    "        user_simulation = simulate_event_user_app()\n",
    "        user_id = random.choice(USERS)['user_id']\n",
    "        purchase = {\n",
    "            'user_id':user_id,\n",
    "            'created_at':date,\n",
    "            'payment_method' : user_simulation['payment'],\n",
    "            'os_device' : user_simulation['os_device'],\n",
    "            'city' : user_simulation['city'],\n",
    "            'latitude': STORE_COORDS_BY_CITY[user_simulation['city']][0],\n",
    "            'longitude': STORE_COORDS_BY_CITY[user_simulation['city']][1],\n",
    "            'status' : user_simulation['status'],\n",
    "            'order_type' : user_simulation['order_type'],\n",
    "            'event_1': user_simulation['event_1'],\n",
    "            'event_2': user_simulation['event_2'],\n",
    "            'event_3': user_simulation['event_3'],\n",
    "            'last_event': user_simulation['last_event'],\n",
    "        }\n",
    "        record_key = 'purchase_simulator'\n",
    "        record_data = json.dumps(purchase).encode('utf-8')\n",
    "        kafka_producer.produce(kafka_topic,key=record_key,value=record_data)\n",
    "        kafka_producer.poll(0)\n",
    "        delivered_records += 1\n",
    "        x += 1\n",
    "        time.sleep(random.choice([1,1,5,2]))\n",
    "    kafka_producer.flush()\n",
    "\n",
    "    print(f'Messages produced to topic {kafka_topic}: {delivered_records}')"
   ]
  },
  {
   "cell_type": "code",
   "execution_count": 14,
   "metadata": {},
   "outputs": [
    {
     "name": "stdout",
     "output_type": "stream",
     "text": [
      "Messages produced to topic topic_druid_real_time: 20\n"
     ]
    }
   ],
   "source": [
    "get_users_simulation_app(num_simulations=20, kafka_topic='topic_druid_real_time')"
   ]
  },
  {
   "cell_type": "markdown",
   "metadata": {},
   "source": [
    "#### Results\n",
    "\n",
    "![image.png](./resources/kafka_results.png)"
   ]
  }
 ],
 "metadata": {
  "kernelspec": {
   "display_name": "base",
   "language": "python",
   "name": "python3"
  },
  "language_info": {
   "codemirror_mode": {
    "name": "ipython",
    "version": 3
   },
   "file_extension": ".py",
   "mimetype": "text/x-python",
   "name": "python",
   "nbconvert_exporter": "python",
   "pygments_lexer": "ipython3",
   "version": "3.11.5"
  }
 },
 "nbformat": 4,
 "nbformat_minor": 2
}
