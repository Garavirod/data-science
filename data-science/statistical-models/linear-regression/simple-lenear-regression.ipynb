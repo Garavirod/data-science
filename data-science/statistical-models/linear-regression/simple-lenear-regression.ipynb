{
 "cells": [
  {
   "attachments": {},
   "cell_type": "markdown",
   "metadata": {},
   "source": [
    "# Linear regression\n",
    "\n",
    "1. It serves us mainly to be able to estimate one variable with respect to the other, it is the one that best fits the cloud of points.\n",
    "\n",
    "2. Linear regression. It allows determining the degree of dependence of the series of values X and Y, predicting the estimated y value that would be obtained for a value x that is not in the distribution.\n",
    "\n",
    "3. It allows predicting the behavior of a certain phenomenon since it efficiently approximates a certain amount of data\n",
    "\n",
    "4. Predictive supervised data mining algorithm since the variables are numerical\n",
    "\n",
    "5. The variable we want to forecast is the dependent variable and gives rise to further division\n",
    "\n",
    "Simple linear regression is based on studying the changes in a non-random variable, which affect a random variable, in the case of a functional relationship between both variables that can be established by a linear expression, that is, its graphical representation is a straight line. That is, we are in the presence of a simple linear regression when an independent variable influences another dependent variable.\n",
    "\n",
    "$$ y = f(x) $$\n",
    "\n",
    "# Regression line of Y on X:\n",
    "\n",
    "The regression line of Y on X is used to estimate the values of Y from those of X, for this reason the variable Y will be called a dependent variable.\n",
    "\n",
    "**The slope of the line is the quotient between the covariance and the variance of the variable X**\n",
    "\n",
    "$$ y - \\bar{y} = \\frac{S_{XY}}{S_{X}^2} * (x - \\bar{x}) $$\n",
    "$$ y  = (\\frac{S_{XY}}{S_{X}^2})x - [(\\frac{S_{XY}}{S_{X}^2})\\bar{x} + \\bar{y}]$$\n",
    "\n",
    "# Regression line of X on Y:\n",
    "\n",
    "The regression line of X on Y is used to estimate the values of X from those of Y, for this reason the varibale X will be called dependent varibale.\n",
    "\n",
    "**The slope of the line is the quotient between the covariance and the variance of the variable Y**\n",
    "\n",
    "$$ y - \\bar{y} = \\frac{S_{XY}}{S_{X}^2} * (x - \\bar{x}) $$\n",
    "$$ y  = (\\frac{S_{XY}}{S_{X}^2})x - [(\\frac{S_{XY}}{S_{X}^2})\\bar{x} + \\bar{y}]$$\n",
    "\n",
    "What we want is to find a simple straight line of the form:\n",
    "\n",
    "$$ y = mx + b $$\n",
    "\n",
    "\n",
    "\n",
    "# Coefficient of determination (R squared)\n",
    "\n",
    "The determination coefficient is defined as the proportion of the total variance of the variable explained by the regression. The coefficient of determination, also called R square, reflects the goodness of the fit of a model to the variable that it tries to explain.\n",
    "\n",
    "It is important to know that the result of the coefficient of determination oscillates between 0 and 1. The closer its value is placed to 1, the greater the fit of the model to the variable that we are trying to explain. Conversely, the closer to zero, the less fitted the model will be and, therefore, the less reliable it will be.\n",
    "\n",
    "It allows making predictions about the growth or variation of a given data according to how it is correlated with other variables. The R square is the indicator that will allow us to know how well these results can be predicted.\n",
    "\n",
    "The greater the variance explained by the regression model, the closer the data points will be to the fitted regression line.\n",
    "\n",
    "The following expression corresponds to the variance, but with two fundamental differences.\n",
    "\n",
    "$$ R^2 = \\frac{\\sum_{t=1}^{T}}{\\sum_{t=1}^{T}} $$\n",
    "\n"
   ]
  },
  {
   "attachments": {},
   "cell_type": "markdown",
   "metadata": {},
   "source": []
  },
  {
   "cell_type": "code",
   "execution_count": 2,
   "metadata": {},
   "outputs": [],
   "source": [
    "import pandas as pd\n",
    "import statsmodels.formula.api as sfm\n",
    "import matplotlib.pyplot as plt\n",
    "import numpy as np\n",
    "from math import ceil"
   ]
  },
  {
   "cell_type": "code",
   "execution_count": 3,
   "metadata": {},
   "outputs": [
    {
     "data": {
      "text/html": [
       "<div>\n",
       "<style scoped>\n",
       "    .dataframe tbody tr th:only-of-type {\n",
       "        vertical-align: middle;\n",
       "    }\n",
       "\n",
       "    .dataframe tbody tr th {\n",
       "        vertical-align: top;\n",
       "    }\n",
       "\n",
       "    .dataframe thead th {\n",
       "        text-align: right;\n",
       "    }\n",
       "</style>\n",
       "<table border=\"1\" class=\"dataframe\">\n",
       "  <thead>\n",
       "    <tr style=\"text-align: right;\">\n",
       "      <th></th>\n",
       "      <th>TV</th>\n",
       "      <th>Radio</th>\n",
       "      <th>Newspaper</th>\n",
       "      <th>Sales</th>\n",
       "    </tr>\n",
       "  </thead>\n",
       "  <tbody>\n",
       "    <tr>\n",
       "      <th>0</th>\n",
       "      <td>230.1</td>\n",
       "      <td>37.8</td>\n",
       "      <td>69.2</td>\n",
       "      <td>22.1</td>\n",
       "    </tr>\n",
       "    <tr>\n",
       "      <th>1</th>\n",
       "      <td>44.5</td>\n",
       "      <td>39.3</td>\n",
       "      <td>45.1</td>\n",
       "      <td>10.4</td>\n",
       "    </tr>\n",
       "    <tr>\n",
       "      <th>2</th>\n",
       "      <td>17.2</td>\n",
       "      <td>45.9</td>\n",
       "      <td>69.3</td>\n",
       "      <td>9.3</td>\n",
       "    </tr>\n",
       "    <tr>\n",
       "      <th>3</th>\n",
       "      <td>151.5</td>\n",
       "      <td>41.3</td>\n",
       "      <td>58.5</td>\n",
       "      <td>18.5</td>\n",
       "    </tr>\n",
       "    <tr>\n",
       "      <th>4</th>\n",
       "      <td>180.8</td>\n",
       "      <td>10.8</td>\n",
       "      <td>58.4</td>\n",
       "      <td>12.9</td>\n",
       "    </tr>\n",
       "  </tbody>\n",
       "</table>\n",
       "</div>"
      ],
      "text/plain": [
       "      TV  Radio  Newspaper  Sales\n",
       "0  230.1   37.8       69.2   22.1\n",
       "1   44.5   39.3       45.1   10.4\n",
       "2   17.2   45.9       69.3    9.3\n",
       "3  151.5   41.3       58.5   18.5\n",
       "4  180.8   10.8       58.4   12.9"
      ]
     },
     "execution_count": 3,
     "metadata": {},
     "output_type": "execute_result"
    }
   ],
   "source": [
    "data = pd.read_csv(\"Advertising.csv\")\n",
    "data.head()"
   ]
  },
  {
   "cell_type": "code",
   "execution_count": 4,
   "metadata": {},
   "outputs": [],
   "source": [
    "# Create a model that fits the parameters\n",
    "lm = sfm.ols(formula='Sales~TV',data=data).fit()"
   ]
  },
  {
   "cell_type": "code",
   "execution_count": 5,
   "metadata": {},
   "outputs": [
    {
     "data": {
      "text/plain": [
       "Intercept    7.032594\n",
       "TV           0.047537\n",
       "dtype: float64"
      ]
     },
     "execution_count": 5,
     "metadata": {},
     "output_type": "execute_result"
    }
   ],
   "source": [
    "lm.params"
   ]
  },
  {
   "attachments": {},
   "cell_type": "markdown",
   "metadata": {},
   "source": [
    "# Predict linear model\n",
    "\n",
    "$$ sales = 7.032594 + 0.047537 * TV $$\n",
    "$$ \\alpha = 7.032594 $$\n",
    "$$ \\beta = 0.047537 $$"
   ]
  },
  {
   "attachments": {},
   "cell_type": "markdown",
   "metadata": {},
   "source": []
  }
 ],
 "metadata": {
  "kernelspec": {
   "display_name": "base",
   "language": "python",
   "name": "python3"
  },
  "language_info": {
   "codemirror_mode": {
    "name": "ipython",
    "version": 3
   },
   "file_extension": ".py",
   "mimetype": "text/x-python",
   "name": "python",
   "nbconvert_exporter": "python",
   "pygments_lexer": "ipython3",
   "version": "3.10.9"
  },
  "orig_nbformat": 4
 },
 "nbformat": 4,
 "nbformat_minor": 2
}
