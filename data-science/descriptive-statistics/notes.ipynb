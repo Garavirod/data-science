{
 "cells": [
  {
   "attachments": {},
   "cell_type": "markdown",
   "metadata": {},
   "source": [
    "## Data types\n",
    "\n",
    "1. Categoric data\n",
    "\n",
    "Make reference to groups or categories\n",
    "\n",
    "2. Numeric data\n",
    "\n",
    "There are two types:\n",
    "\n",
    "- Discrets: represents discrete variables, which you can count in a finite amount of time. Refers to countable\n",
    "    - The number of product reviews\n",
    "    - The number of tickets sold in a day\n",
    "    - The number of students in your class\n",
    "- Continue: refers to the unspecified number of possible measurements between two realistic points \n",
    "    - Daily wind speed\n",
    "    - Freezer temperature\n",
    "    - Weight of newborn babies\n",
    "\n",
    "## Messure levels\n",
    "\n",
    "1. Quantitative\n",
    "\n",
    "- Interval: An interval scale is one where there is order and the difference between two values is meaningful. (no real zero)\n",
    "- Ratio data: A ratio variable, has all the properties of an interval variable, and also has a clear definition of 0.0 (real zero)\n",
    "\n",
    "2. Qualitative\n",
    "\n",
    "There are two types\n",
    "\n",
    "- Nominal: Represents groups or categories (non numeric data and cannot be ordered)\n",
    "- Ordinal: Represents groups or categories that follow an strict order\n"
   ]
  }
 ],
 "metadata": {
  "kernelspec": {
   "display_name": "Python 3",
   "language": "python",
   "name": "python3"
  },
  "language_info": {
   "codemirror_mode": {
    "name": "ipython",
    "version": 3
   },
   "file_extension": ".py",
   "mimetype": "text/x-python",
   "name": "python",
   "nbconvert_exporter": "python",
   "pygments_lexer": "ipython3",
   "version": "3.10.9"
  },
  "orig_nbformat": 4
 },
 "nbformat": 4,
 "nbformat_minor": 2
}
